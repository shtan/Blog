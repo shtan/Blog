{
 "cells": [
  {
   "cell_type": "markdown",
   "metadata": {},
   "source": [
    "Split a sound into its component sine waves. Output audio, adding successive sine waves one at a time.\n",
    "\n",
    "Used in this post: http://www.tremblingsandwarblings.com/2017/05/fourier-transform-spectrum/\n",
    "\n",
    "And this video: https://www.youtube.com/watch?v=BvUMfnQucP4"
   ]
  },
  {
   "cell_type": "code",
   "execution_count": null,
   "metadata": {
    "collapsed": true
   },
   "outputs": [],
   "source": [
    "# Use Python 2.7\n",
    "# Uses sms-tools-enhanced package (see readme)"
   ]
  },
  {
   "cell_type": "code",
   "execution_count": 1,
   "metadata": {
    "collapsed": false
   },
   "outputs": [],
   "source": [
    "import sys\n",
    "import os\n",
    "sys.path.append('../sms-tools-enhanced/software/models/')\n",
    "import numpy as np\n",
    "import matplotlib.pyplot as plt\n",
    "from scipy.signal import get_window\n",
    "import utilFunctions as UF\n",
    "import sineModel as SM\n",
    "import harmonicModel as HM\n",
    "import hprModel as HPR"
   ]
  },
  {
   "cell_type": "code",
   "execution_count": 2,
   "metadata": {
    "collapsed": true
   },
   "outputs": [],
   "source": [
    "# Set input file\n",
    "\n",
    "#inputFile='sounds/violin_G5_1_pianissimo_arco-normal.wav'\n",
    "#inputFile='input_sounds/erhu6_novib.wav'\n",
    "#inputFile='input_sounds/violin_B4_05_mezzo-piano_arco-normal.wav'\n",
    "#inputFile='input_sounds/Erhu_B4.wav'\n",
    "inputFile='sounds/Erhu_G5.wav'"
   ]
  },
  {
   "cell_type": "code",
   "execution_count": 3,
   "metadata": {
    "collapsed": true
   },
   "outputs": [],
   "source": [
    "# Set parameters\n",
    "\n",
    "window='blackman'\n",
    "M=801             # Window size\n",
    "N=1024            # FFT size (power of 2, larger than M)\n",
    "t=-90             # Threshold below which to discount peaks\n",
    "minSineDur=0.07   # Minimum duration of sine track, else delete track\n",
    "nH=50             # Number of harmonics to do STFT (Residual is what's left)\n",
    "nH_s = 15         # Number of harmonics to synthesise, adding one after another\n",
    "minf0=300         # For finding f0, set minimum possible value\n",
    "maxf0=800         # For finding f0, set maximum possible value\n",
    "f0et=7            # Allowed error when finding f0\n",
    "harmDevSlope=0.01 # Allowed deviation from harmonicity in harmonics\n",
    "Ns = 1024         # size of fft used in synthesis\n",
    "H = 256           # hop size (has to be 1/4 of Ns)"
   ]
  },
  {
   "cell_type": "code",
   "execution_count": 4,
   "metadata": {
    "collapsed": true
   },
   "outputs": [],
   "source": [
    "# read input sound\n",
    "(fs, x) = UF.wavread(inputFile)\n",
    "\n",
    "# compute analysis window\n",
    "w = get_window(window, M)\n",
    "\n",
    "# Compute HPR model\n",
    "hfreq, hmag, hphase, xr = HPR.hprModelAnal(x, fs, w, N, H, t, minSineDur, nH, minf0, maxf0, f0et, harmDevSlope)"
   ]
  },
  {
   "cell_type": "code",
   "execution_count": 5,
   "metadata": {
    "collapsed": true
   },
   "outputs": [],
   "source": [
    "# Synthesise the sound while adding in successive harmonics\n",
    "\n",
    "soundarr = np.array([])                  # Container to store sounds as we add in successive harmonics\n",
    "y = np.array([])                         # The output sound, at each addition of harmonics\n",
    "j_ind = 0\n",
    "for j in range(0,15):                    # Add in successive harmonics\n",
    "    # synthesize the harmonics\n",
    "    y = SM.sineModelSynth_uptoj(hfreq, hmag, hphase, Ns, H, fs, j)\n",
    "    \n",
    "    soundarr = np.append(soundarr, y)\n",
    "    j_ind = j\n",
    "    \n",
    "# First nH_s harmonics plus residual (non-harmonic) part\n",
    "harm_plus_res = y[:min(y.size, xr.size)] + xr[:min(y.size, xr.size)]"
   ]
  },
  {
   "cell_type": "code",
   "execution_count": 6,
   "metadata": {
    "collapsed": false
   },
   "outputs": [],
   "source": [
    "# Write output files\n",
    "\n",
    "# output sound file (monophonic with sampling rate of 44100)\n",
    "outputFileSuc = 'output_sounds/' + os.path.basename(inputFile)[:-4] + '_harmonicSeries' + '.wav'\n",
    "outputFileHarmRes = 'output_sounds/' + os.path.basename(inputFile)[:-4] + '_harm+res' + '.wav'\n",
    "outputFileLast = 'output_sounds/' + os.path.basename(inputFile)[:-4] + '_harm_' + str(j_ind) + '.wav'\n",
    "outputFileRes = 'output_sounds/' + os.path.basename(inputFile)[:-4] + '_res' + '.wav'\n",
    "\n",
    "# write the sound resulting from harmonic analysis\n",
    "UF.wavwrite(soundarr, fs, outputFileSuc)                # Adding first nH_s harmonics in succession\n",
    "UF.wavwrite(harm_plus_res, fs, outputFileHarmRes)       # Sum of first nH_s harmonics plus residual (non-harmonic) part\n",
    "UF.wavwrite(y, fs, outputFileLast)                      # The last (nH_s-th) harmonic\n",
    "UF.wavwrite(xr, fs, outputFileRes)                      # Residual (non-harmonic) part"
   ]
  },
  {
   "cell_type": "code",
   "execution_count": null,
   "metadata": {
    "collapsed": true
   },
   "outputs": [],
   "source": []
  }
 ],
 "metadata": {
  "anaconda-cloud": {},
  "kernelspec": {
   "display_name": "Python [default]",
   "language": "python",
   "name": "python2"
  },
  "language_info": {
   "codemirror_mode": {
    "name": "ipython",
    "version": 2
   },
   "file_extension": ".py",
   "mimetype": "text/x-python",
   "name": "python",
   "nbconvert_exporter": "python",
   "pygments_lexer": "ipython2",
   "version": "2.7.12"
  }
 },
 "nbformat": 4,
 "nbformat_minor": 1
}
